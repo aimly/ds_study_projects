{
 "cells": [
  {
   "cell_type": "markdown",
   "id": "d7313d6d",
   "metadata": {
    "id": "GEqQaHzsZ_bA"
   },
   "source": [
    "## Предсказание стоимости жилья\n",
    "\n",
    "В проекте вам нужно обучить модель линейной регрессии на данных о жилье в Калифорнии в 1990 году. На основе данных нужно предсказать медианную стоимость дома в жилом массиве. Обучите модель и сделайте предсказания на тестовой выборке. Для оценки качества модели используйте метрики RMSE, MAE и R2."
   ]
  },
  {
   "cell_type": "markdown",
   "id": "2e16be14",
   "metadata": {
    "id": "53871372"
   },
   "source": [
    "# Подготовка данных"
   ]
  },
  {
   "cell_type": "markdown",
   "id": "6a2545a3",
   "metadata": {},
   "source": [
    "Создадим spark-сессию, загрузим данные."
   ]
  },
  {
   "cell_type": "code",
   "execution_count": 1,
   "id": "d8e2a4ec",
   "metadata": {},
   "outputs": [],
   "source": [
    "import pandas as pd \n",
    "import numpy as np\n",
    "\n",
    "import pyspark\n",
    "from pyspark.sql import SparkSession\n",
    "from pyspark.sql.types import *\n",
    "import pyspark.sql.functions as F\n",
    "\n",
    "from pyspark.ml.feature import StringIndexer, VectorAssembler, StandardScaler\n",
    "from pyspark.ml.regression import LinearRegression\n",
    "from pyspark.ml.evaluation import RegressionEvaluator\n",
    "from pyspark.ml.feature import OneHotEncoder, Imputer\n",
    "\n",
    "RANDOM_SEED = 2022"
   ]
  },
  {
   "cell_type": "code",
   "execution_count": 2,
   "id": "a85a7395",
   "metadata": {
    "id": "df92e3ec"
   },
   "outputs": [],
   "source": [
    "spark = SparkSession.builder \\\n",
    "                    .master(\"local\") \\\n",
    "                    .appName(\"Housing California - Linear regression\") \\\n",
    "                    .getOrCreate()\n",
    "\n",
    "df = spark.read.option('header', 'true').csv('/datasets/housing.csv', inferSchema = True) "
   ]
  },
  {
   "cell_type": "markdown",
   "id": "7553f299",
   "metadata": {},
   "source": [
    "Посмотрим на данные"
   ]
  },
  {
   "cell_type": "code",
   "execution_count": 3,
   "id": "e88e77af",
   "metadata": {},
   "outputs": [
    {
     "name": "stdout",
     "output_type": "stream",
     "text": [
      "root\n",
      " |-- longitude: double (nullable = true)\n",
      " |-- latitude: double (nullable = true)\n",
      " |-- housing_median_age: double (nullable = true)\n",
      " |-- total_rooms: double (nullable = true)\n",
      " |-- total_bedrooms: double (nullable = true)\n",
      " |-- population: double (nullable = true)\n",
      " |-- households: double (nullable = true)\n",
      " |-- median_income: double (nullable = true)\n",
      " |-- median_house_value: double (nullable = true)\n",
      " |-- ocean_proximity: string (nullable = true)\n",
      "\n"
     ]
    }
   ],
   "source": [
    "df.printSchema() "
   ]
  },
  {
   "cell_type": "code",
   "execution_count": 4,
   "id": "02c93907",
   "metadata": {
    "scrolled": true
   },
   "outputs": [
    {
     "name": "stdout",
     "output_type": "stream",
     "text": [
      "+---------+--------+------------------+-----------+--------------+----------+----------+-------------+------------------+---------------+\n",
      "|longitude|latitude|housing_median_age|total_rooms|total_bedrooms|population|households|median_income|median_house_value|ocean_proximity|\n",
      "+---------+--------+------------------+-----------+--------------+----------+----------+-------------+------------------+---------------+\n",
      "|  -122.23|   37.88|              41.0|      880.0|         129.0|     322.0|     126.0|       8.3252|          452600.0|       NEAR BAY|\n",
      "|  -122.22|   37.86|              21.0|     7099.0|        1106.0|    2401.0|    1138.0|       8.3014|          358500.0|       NEAR BAY|\n",
      "|  -122.24|   37.85|              52.0|     1467.0|         190.0|     496.0|     177.0|       7.2574|          352100.0|       NEAR BAY|\n",
      "|  -122.25|   37.85|              52.0|     1274.0|         235.0|     558.0|     219.0|       5.6431|          341300.0|       NEAR BAY|\n",
      "|  -122.25|   37.85|              52.0|     1627.0|         280.0|     565.0|     259.0|       3.8462|          342200.0|       NEAR BAY|\n",
      "+---------+--------+------------------+-----------+--------------+----------+----------+-------------+------------------+---------------+\n",
      "only showing top 5 rows\n",
      "\n"
     ]
    }
   ],
   "source": [
    "df.show(5)"
   ]
  },
  {
   "cell_type": "code",
   "execution_count": 5,
   "id": "7a5e8c1e",
   "metadata": {
    "scrolled": true
   },
   "outputs": [
    {
     "name": "stdout",
     "output_type": "stream",
     "text": [
      "+-------+-------------------+-----------------+------------------+------------------+------------------+------------------+-----------------+------------------+------------------+---------------+\n",
      "|summary|          longitude|         latitude|housing_median_age|       total_rooms|    total_bedrooms|        population|       households|     median_income|median_house_value|ocean_proximity|\n",
      "+-------+-------------------+-----------------+------------------+------------------+------------------+------------------+-----------------+------------------+------------------+---------------+\n",
      "|  count|              20640|            20640|             20640|             20640|             20433|             20640|            20640|             20640|             20640|          20640|\n",
      "|   mean|-119.56970445736148| 35.6318614341087|28.639486434108527|2635.7630813953488| 537.8705525375618|1425.4767441860465|499.5396802325581|3.8706710029070246|206855.81690891474|           null|\n",
      "| stddev|  2.003531723502584|2.135952397457101| 12.58555761211163|2181.6152515827944|421.38507007403115|  1132.46212176534|382.3297528316098| 1.899821717945263|115395.61587441359|           null|\n",
      "|    min|            -124.35|            32.54|               1.0|               2.0|               1.0|               3.0|              1.0|            0.4999|           14999.0|      <1H OCEAN|\n",
      "|    25%|             -121.8|            33.93|              18.0|            1447.0|             296.0|             787.0|            280.0|            2.5625|          119600.0|           null|\n",
      "|    50%|            -118.49|            34.26|              29.0|            2127.0|             435.0|            1166.0|            409.0|            3.5347|          179700.0|           null|\n",
      "|    75%|            -118.01|            37.71|              37.0|            3146.0|             647.0|            1724.0|            605.0|            4.7426|          264700.0|           null|\n",
      "|    max|            -114.31|            41.95|              52.0|           39320.0|            6445.0|           35682.0|           6082.0|           15.0001|          500001.0|     NEAR OCEAN|\n",
      "+-------+-------------------+-----------------+------------------+------------------+------------------+------------------+-----------------+------------------+------------------+---------------+\n",
      "\n"
     ]
    }
   ],
   "source": [
    "df.summary().show()"
   ]
  },
  {
   "cell_type": "markdown",
   "id": "6464c2ca",
   "metadata": {},
   "source": [
    "Проверим, есть ли дубликаты"
   ]
  },
  {
   "cell_type": "code",
   "execution_count": 6,
   "id": "524e3390",
   "metadata": {},
   "outputs": [
    {
     "name": "stdout",
     "output_type": "stream",
     "text": [
      "longitude : 0 duplicates\n",
      "latitude : 0 duplicates\n",
      "housing_median_age : 0 duplicates\n",
      "total_rooms : 0 duplicates\n",
      "total_bedrooms : 207 duplicates\n",
      "population : 0 duplicates\n",
      "households : 0 duplicates\n",
      "median_income : 0 duplicates\n",
      "median_house_value : 0 duplicates\n",
      "ocean_proximity : 0 duplicates\n"
     ]
    }
   ],
   "source": [
    "def print_na(df):\n",
    "    for i in range(len(df.columns)):\n",
    "        col = df.columns[i]\n",
    "        print(col, ':', df.filter(df[col].isNull()).count(), 'duplicates')\n",
    "        \n",
    "print_na(df)"
   ]
  },
  {
   "cell_type": "markdown",
   "id": "56569443",
   "metadata": {},
   "source": [
    "Так как признак числовой и пропусков немного относительно общего количества измерений, заменим пропуски чувствительной к выбросам медианой."
   ]
  },
  {
   "cell_type": "code",
   "execution_count": 7,
   "id": "9b9dd414",
   "metadata": {},
   "outputs": [
    {
     "name": "stdout",
     "output_type": "stream",
     "text": [
      "longitude : 0 duplicates\n",
      "latitude : 0 duplicates\n",
      "housing_median_age : 0 duplicates\n",
      "total_rooms : 0 duplicates\n",
      "total_bedrooms : 0 duplicates\n",
      "population : 0 duplicates\n",
      "households : 0 duplicates\n",
      "median_income : 0 duplicates\n",
      "median_house_value : 0 duplicates\n",
      "ocean_proximity : 0 duplicates\n"
     ]
    }
   ],
   "source": [
    "imputer = Imputer(\n",
    "                    inputCols=['total_bedrooms'], \n",
    "                    outputCols=['total_bedrooms']\n",
    "                  ).setStrategy(\"median\")\n",
    "\n",
    "# Add imputation cols to df\n",
    "df = imputer.fit(df).transform(df)\n",
    "print_na(df)"
   ]
  },
  {
   "cell_type": "markdown",
   "id": "00b3ca1c",
   "metadata": {},
   "source": [
    "Мы решаем задачу линейной регрессии, для которой нормализация признаков является полезным шагом в предобработке данных. Давайте сделаем ее."
   ]
  },
  {
   "cell_type": "markdown",
   "id": "94a14046",
   "metadata": {},
   "source": [
    "Сперва определим массивы категориальных и числовых признаков, а также отведем под таргет отдельную переменную."
   ]
  },
  {
   "cell_type": "code",
   "execution_count": 8,
   "id": "a4349833",
   "metadata": {},
   "outputs": [],
   "source": [
    "categorical_cols = ['ocean_proximity']\n",
    "numerical_cols  = ['longitude',\n",
    "                     'latitude',\n",
    "                     'housing_median_age',\n",
    "                     'total_rooms',\n",
    "                     'total_bedrooms',\n",
    "                     'population',\n",
    "                     'households',\n",
    "                     'median_income']\n",
    "target = \"median_house_value\" "
   ]
  },
  {
   "cell_type": "markdown",
   "id": "ad007793",
   "metadata": {},
   "source": [
    "Теперь скомпонуем численные признаки в один и проведем нормализацию."
   ]
  },
  {
   "cell_type": "code",
   "execution_count": 9,
   "id": "056fc1d9",
   "metadata": {},
   "outputs": [],
   "source": [
    "numerical_assembler = VectorAssembler(inputCols=numerical_cols, outputCol=\"numerical_features\")\n",
    "df = numerical_assembler.transform(df) \n",
    "\n",
    "standardScaler = StandardScaler(inputCol='numerical_features', outputCol=\"numerical_features_scaled\")\n",
    "df = standardScaler.fit(df).transform(df) "
   ]
  },
  {
   "cell_type": "code",
   "execution_count": 10,
   "id": "729bdf5a",
   "metadata": {},
   "outputs": [
    {
     "name": "stdout",
     "output_type": "stream",
     "text": [
      "+--------------------+-------------------------+\n",
      "|  numerical_features|numerical_features_scaled|\n",
      "+--------------------+-------------------------+\n",
      "|[-122.23,37.88,41...|     [-61.007269596069...|\n",
      "|[-122.22,37.86,21...|     [-61.002278409814...|\n",
      "|[-122.24,37.85,52...|     [-61.012260782324...|\n",
      "|[-122.25,37.85,52...|     [-61.017251968579...|\n",
      "|[-122.25,37.85,52...|     [-61.017251968579...|\n",
      "+--------------------+-------------------------+\n",
      "only showing top 5 rows\n",
      "\n"
     ]
    }
   ],
   "source": [
    "df.select('numerical_features', 'numerical_features_scaled').show(5) "
   ]
  },
  {
   "cell_type": "markdown",
   "id": "45b2c93d",
   "metadata": {},
   "source": [
    "Вектор нормализованных числовых величин получен. Теперь приведем единственный нечисловой признак в числовой нормализованный."
   ]
  },
  {
   "cell_type": "markdown",
   "id": "fcff0355",
   "metadata": {},
   "source": [
    "Для начала переведем его просто в числовой"
   ]
  },
  {
   "cell_type": "code",
   "execution_count": 11,
   "id": "21de4660",
   "metadata": {},
   "outputs": [],
   "source": [
    "indexer = StringIndexer(inputCol=categorical_cols[0], outputCol=categorical_cols[0]+'_idx') \n",
    "df = indexer.fit(df).transform(df)"
   ]
  },
  {
   "cell_type": "code",
   "execution_count": 12,
   "id": "873a944a",
   "metadata": {},
   "outputs": [
    {
     "name": "stdout",
     "output_type": "stream",
     "text": [
      "+---------------+-------------------+\n",
      "|ocean_proximity|ocean_proximity_idx|\n",
      "+---------------+-------------------+\n",
      "|       NEAR BAY|                3.0|\n",
      "|       NEAR BAY|                3.0|\n",
      "|       NEAR BAY|                3.0|\n",
      "|       NEAR BAY|                3.0|\n",
      "|       NEAR BAY|                3.0|\n",
      "+---------------+-------------------+\n",
      "only showing top 5 rows\n",
      "\n"
     ]
    }
   ],
   "source": [
    "cols = [c for c in df.columns for i in categorical_cols if (c.startswith(i))]\n",
    "df.select(cols).show(5) "
   ]
  },
  {
   "cell_type": "markdown",
   "id": "5d8ea6cf",
   "metadata": {},
   "source": [
    "А теперь проведем one-hot кодирование."
   ]
  },
  {
   "cell_type": "code",
   "execution_count": 13,
   "id": "e50589e2",
   "metadata": {},
   "outputs": [],
   "source": [
    "encoder = OneHotEncoder(inputCol=categorical_cols[0]+'_idx', outputCol=categorical_cols[0]+'_ohe') \n",
    "df = encoder.transform(df)"
   ]
  },
  {
   "cell_type": "code",
   "execution_count": 14,
   "id": "9715c624",
   "metadata": {},
   "outputs": [
    {
     "name": "stdout",
     "output_type": "stream",
     "text": [
      "+---------------+-------------------+-------------------+\n",
      "|ocean_proximity|ocean_proximity_idx|ocean_proximity_ohe|\n",
      "+---------------+-------------------+-------------------+\n",
      "|       NEAR BAY|                3.0|      (4,[3],[1.0])|\n",
      "|       NEAR BAY|                3.0|      (4,[3],[1.0])|\n",
      "|       NEAR BAY|                3.0|      (4,[3],[1.0])|\n",
      "|       NEAR BAY|                3.0|      (4,[3],[1.0])|\n",
      "|       NEAR BAY|                3.0|      (4,[3],[1.0])|\n",
      "+---------------+-------------------+-------------------+\n",
      "only showing top 5 rows\n",
      "\n"
     ]
    }
   ],
   "source": [
    "cols = [c for c in df.columns for i in categorical_cols if (c.startswith(i))]\n",
    "df.select(cols).show(5) "
   ]
  },
  {
   "cell_type": "code",
   "execution_count": 15,
   "id": "ed824cc3",
   "metadata": {},
   "outputs": [],
   "source": [
    "categorical_assembler = VectorAssembler(inputCols=[c+'_ohe' for c in categorical_cols],\n",
    "                                        outputCol=\"categorical_features\")\n",
    "df = categorical_assembler.transform(df) "
   ]
  },
  {
   "cell_type": "markdown",
   "id": "26a4632e",
   "metadata": {},
   "source": [
    "Теперь объединим наши нормализованные признаки в один"
   ]
  },
  {
   "cell_type": "code",
   "execution_count": 16,
   "id": "917907f0",
   "metadata": {},
   "outputs": [
    {
     "name": "stdout",
     "output_type": "stream",
     "text": [
      "+--------------------+-------------------------+\n",
      "|categorical_features|numerical_features_scaled|\n",
      "+--------------------+-------------------------+\n",
      "|       (4,[3],[1.0])|     [-61.007269596069...|\n",
      "|       (4,[3],[1.0])|     [-61.002278409814...|\n",
      "|       (4,[3],[1.0])|     [-61.012260782324...|\n",
      "+--------------------+-------------------------+\n",
      "only showing top 3 rows\n",
      "\n"
     ]
    }
   ],
   "source": [
    "all_features = ['categorical_features', 'numerical_features_scaled']\n",
    "\n",
    "final_assembler = VectorAssembler(inputCols=all_features, \n",
    "                                  outputCol=\"features\") \n",
    "df = final_assembler.transform(df)\n",
    "\n",
    "df.select(all_features).show(3) "
   ]
  },
  {
   "cell_type": "markdown",
   "id": "a7c46dc0",
   "metadata": {},
   "source": [
    "Предобработка данных завершена."
   ]
  },
  {
   "cell_type": "markdown",
   "id": "f9f16942",
   "metadata": {
    "id": "9f0a82f3"
   },
   "source": [
    "# Обучение моделей"
   ]
  },
  {
   "cell_type": "markdown",
   "id": "d1d1f04a",
   "metadata": {},
   "source": [
    "Разделим наш датасет на обучающую и тестовую выборки"
   ]
  },
  {
   "cell_type": "code",
   "execution_count": 17,
   "id": "268b57df",
   "metadata": {
    "id": "bddb08c4"
   },
   "outputs": [
    {
     "name": "stdout",
     "output_type": "stream",
     "text": [
      "16437 4203\n"
     ]
    }
   ],
   "source": [
    "train_data, test_data = df.randomSplit([.8,.2], seed=RANDOM_SEED)\n",
    "print(train_data.count(), test_data.count()) "
   ]
  },
  {
   "cell_type": "markdown",
   "id": "a8cf7114",
   "metadata": {},
   "source": [
    "Обучим модели на двух наборах признаков:\n",
    "\n",
    "* на всем наборе признаков\n",
    "* только на числовых признаках"
   ]
  },
  {
   "cell_type": "code",
   "execution_count": 18,
   "id": "c42d3c96",
   "metadata": {},
   "outputs": [],
   "source": [
    "lr = LinearRegression(labelCol=target, featuresCol='features')\n",
    "model_all_feat = lr.fit(train_data) "
   ]
  },
  {
   "cell_type": "code",
   "execution_count": 19,
   "id": "bf0cdb7c",
   "metadata": {},
   "outputs": [],
   "source": [
    "lr = LinearRegression(labelCol=target, featuresCol='numerical_features_scaled')\n",
    "model_num = lr.fit(train_data)"
   ]
  },
  {
   "cell_type": "code",
   "execution_count": 20,
   "id": "1b9b50c5",
   "metadata": {},
   "outputs": [
    {
     "name": "stdout",
     "output_type": "stream",
     "text": [
      "+------------------+------------------+\n",
      "|median_house_value|        prediction|\n",
      "+------------------+------------------+\n",
      "|           85800.0| 64335.38324976526|\n",
      "|          111400.0| 164099.3713788488|\n",
      "|           58100.0| 109437.6758287712|\n",
      "|           64600.0| 99163.18136291625|\n",
      "|           82800.0| 138039.6829711632|\n",
      "|           85100.0|149032.18297593342|\n",
      "|           85600.0| 155144.2789014033|\n",
      "|           76900.0|130175.94708645158|\n",
      "|           92700.0|151077.77760828426|\n",
      "|           74100.0|117696.14210933307|\n",
      "|           96000.0|133306.03774422454|\n",
      "|           74100.0|122696.04789372301|\n",
      "|          128100.0| 191197.0836423263|\n",
      "|          100500.0| 131254.7389358543|\n",
      "|           99600.0|152051.76741494937|\n",
      "|           81000.0|130351.66840665368|\n",
      "|           81100.0|117054.72467243299|\n",
      "|           55000.0|191942.16273756092|\n",
      "|           87500.0| 90024.59904904803|\n",
      "|          105800.0|132973.44725472527|\n",
      "+------------------+------------------+\n",
      "only showing top 20 rows\n",
      "\n"
     ]
    }
   ],
   "source": [
    "predictions_num = model_num.transform(test_data)\n",
    "\n",
    "predictedLabes_num = predictions_num.select(target, \"prediction\")\n",
    "predictedLabes_num.show()"
   ]
  },
  {
   "cell_type": "code",
   "execution_count": 21,
   "id": "8f99fa39",
   "metadata": {},
   "outputs": [
    {
     "name": "stdout",
     "output_type": "stream",
     "text": [
      "+------------------+------------------+\n",
      "|median_house_value|        prediction|\n",
      "+------------------+------------------+\n",
      "|           85800.0| 113670.8475707327|\n",
      "|          111400.0|190777.60007122857|\n",
      "|           58100.0|140720.86547184316|\n",
      "|           64600.0| 131828.1151816314|\n",
      "|           82800.0|170537.15062440932|\n",
      "|           85100.0|178015.10192344664|\n",
      "|           85600.0|187074.03952357592|\n",
      "|           76900.0|161951.21830386063|\n",
      "|           92700.0|182728.51984754857|\n",
      "|           74100.0|148809.99381590448|\n",
      "|           96000.0|169338.50511733722|\n",
      "|           74100.0|155104.09917140426|\n",
      "|          128100.0|220375.56650389126|\n",
      "|          100500.0|164388.00971795898|\n",
      "|           99600.0|184968.98043534718|\n",
      "|           81000.0|163428.54040131997|\n",
      "|           81100.0|150709.90114873275|\n",
      "|           55000.0| 213133.6186054917|\n",
      "|           87500.0|125118.97478940058|\n",
      "|          105800.0| 167362.7770756455|\n",
      "+------------------+------------------+\n",
      "only showing top 20 rows\n",
      "\n"
     ]
    }
   ],
   "source": [
    "predictions_all_feat = model_all_feat.transform(test_data)\n",
    "\n",
    "predictedLabes_all_feat = predictions_all_feat.select(target, \"prediction\")\n",
    "predictedLabes_all_feat.show()"
   ]
  },
  {
   "cell_type": "markdown",
   "id": "c2050b25",
   "metadata": {},
   "source": [
    "По 20 строкам есть ощущение, что модели у нас ужаснейшие:) Посмотрим на метрики качества."
   ]
  },
  {
   "cell_type": "markdown",
   "id": "f053c7e4",
   "metadata": {
    "id": "757fd103"
   },
   "source": [
    "# Анализ результатов"
   ]
  },
  {
   "cell_type": "markdown",
   "id": "02f7dc33",
   "metadata": {},
   "source": [
    "Вычислим значение следующих метрик:\n",
    "\n",
    "* корень из среднеквадратического отклонения\n",
    "* среднее абсолютное отклонение \n",
    "* коэффициент детерминации\n",
    "\n",
    "\n",
    "Посмотрим на их значение на каждом из двух наборов признаков"
   ]
  },
  {
   "cell_type": "code",
   "execution_count": 22,
   "id": "8c7f1244",
   "metadata": {},
   "outputs": [
    {
     "name": "stdout",
     "output_type": "stream",
     "text": [
      "rmse:  68515.56613000772\n",
      "mae:  49397.559157762924\n",
      "r2:  0.6452125451023688\n"
     ]
    }
   ],
   "source": [
    "rmse = RegressionEvaluator(labelCol=target, metricName='rmse').evaluate(predictions_all_feat)\n",
    "mae = RegressionEvaluator(labelCol=target, metricName='mae').evaluate(predictions_all_feat)\n",
    "r2 = RegressionEvaluator(labelCol=target, metricName='r2').evaluate(predictions_all_feat)\n",
    "\n",
    "print('rmse: ', rmse)\n",
    "print('mae: ', mae)\n",
    "print('r2: ', r2)"
   ]
  },
  {
   "cell_type": "code",
   "execution_count": 23,
   "id": "7a635fd0",
   "metadata": {},
   "outputs": [
    {
     "name": "stdout",
     "output_type": "stream",
     "text": [
      "rmse:  69532.16421088148\n",
      "mae:  50567.73967674745\n",
      "r2:  0.6346061375691843\n"
     ]
    }
   ],
   "source": [
    "rmse = RegressionEvaluator(labelCol=target, metricName='rmse').evaluate(predictions_num)\n",
    "mae = RegressionEvaluator(labelCol=target, metricName='mae').evaluate(predictions_num)\n",
    "r2 = RegressionEvaluator(labelCol=target, metricName='r2').evaluate(predictions_num)\n",
    "\n",
    "print('rmse: ', rmse)\n",
    "print('mae: ', mae)\n",
    "print('r2: ', r2)"
   ]
  },
  {
   "cell_type": "markdown",
   "id": "456e591a",
   "metadata": {},
   "source": [
    "Как видно по коэффициенту детерминации, наши модели предсказывают на весьма неплохом уровне. Также мы видим, что модель, в которой есть категориальный признак, не особо лучше второй модели, что говорит о невысокой значимости категориального признака."
   ]
  },
  {
   "cell_type": "markdown",
   "id": "81b9648b",
   "metadata": {
    "id": "757fd103"
   },
   "source": [
    "# Вывод"
   ]
  },
  {
   "cell_type": "markdown",
   "id": "e2385844",
   "metadata": {},
   "source": [
    "В этом спринте была проведена некоторая работа по предобработке данных и построению моделей с помощью библиотеки pysparq. Эта библиотека рассчитана на то, чтобы работать с огромными объемами данных, которые не помещаются в оперативную память, а их обработка в случае обыкновенного последовательного исполнения кода обработки занимала бы слишком долгое время, которое на бизнес-задачи просто не выдается. Поэтому эта библиотека не предназначена для красивых визуализаций - здесь нужно быстро и оптимально выполнять простые вещи по обработке данных и построению моделей.\n",
    "\n",
    "Очень жаль, что поработать на сервере с большими данными в рамках этого спринта не получилось. Было бы забавно поработать со штуками, где от одной криво написанной строки время исполнения твоей программы увеличивается на несколько часов (или больше) :) А конкретно в этой работе мы просто закрепили знание синтаксиса."
   ]
  }
 ],
 "metadata": {
  "kernelspec": {
   "display_name": "Python 3 (ipykernel)",
   "language": "python",
   "name": "python3"
  },
  "language_info": {
   "codemirror_mode": {
    "name": "ipython",
    "version": 3
   },
   "file_extension": ".py",
   "mimetype": "text/x-python",
   "name": "python",
   "nbconvert_exporter": "python",
   "pygments_lexer": "ipython3",
   "version": "3.8.8"
  },
  "toc": {
   "base_numbering": 1,
   "nav_menu": {},
   "number_sections": true,
   "sideBar": true,
   "skip_h1_title": false,
   "title_cell": "Table of Contents",
   "title_sidebar": "Contents",
   "toc_cell": false,
   "toc_position": {},
   "toc_section_display": true,
   "toc_window_display": false
  }
 },
 "nbformat": 4,
 "nbformat_minor": 5
}
